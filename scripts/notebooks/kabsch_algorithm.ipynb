{
 "cells": [
  {
   "cell_type": "code",
   "execution_count": 2,
   "metadata": {},
   "outputs": [],
   "source": [
    "import numpy as np\n"
   ]
  },
  {
   "cell_type": "code",
   "execution_count": 45,
   "metadata": {},
   "outputs": [],
   "source": [
    "# dataset generation\n",
    "# points\n",
    "A = np.matrix([[10.0,10.0,10.0],\n",
    "               [20.0,10.0,10.0],\n",
    "               [20.0,10.0,15.0],])\n",
    "\n",
    "B = np.matrix([[18.8106,17.6222,12.8169],\n",
    "               [28.6581,19.3591,12.8173],\n",
    "               [28.9554, 17.6748, 17.5159],])\n",
    "n = B.shape[0]\n",
    "\n",
    "# transformations\n",
    "T_src = np.matrix([[0.9848, 0.1737,0.0000,-11.5865],\n",
    "                   [-0.1632,0.9254,0.3420, -7.621],\n",
    "                   [0.0594,-0.3369,0.9400,2.7752],\n",
    "                   [0.0000, 0.0000,0.0000,1.0000]])\n",
    "T_dst = np.matrix([[0.9848, 0.1737,0.0000,-11.5859],\n",
    "                   [-0.1632,0.9254,0.3420, -7.621],\n",
    "                   [0.0594,-0.3369,0.9400,2.7755],\n",
    "                   [0.0000, 0.0000,0.0000,1.0000]])\n",
    "\n",
    "scaling = True"
   ]
  },
  {
   "cell_type": "code",
   "execution_count": 46,
   "metadata": {},
   "outputs": [
    {
     "name": "stdout",
     "output_type": "stream",
     "text": [
      "1.0000149841190074\n",
      "R=matrix([[ 9.84798975e-01,  1.73697950e-01,  4.18639469e-05],\n",
      "        [-1.63234699e-01,  9.25394020e-01,  3.42053127e-01],\n",
      "        [ 5.93751863e-02, -3.36860402e-01,  9.39680614e-01]])\n",
      "t=matrix([[-11.5863681 ],\n",
      "        [ -7.62126063],\n",
      "        [  2.77535618]])\n"
     ]
    }
   ],
   "source": [
    "# https://gist.github.com/oshea00/dfb7d657feca009bf4d095d4cb8ea4be\n",
    "def rigid_transform_3D(A, B, scale):\n",
    "\n",
    "    assert len(A) == len(B)\n",
    "    N = A.shape[0]\n",
    "\n",
    "    # mean of each point cloud\n",
    "    Am = np.mean(A, axis=0)\n",
    "    Bm = np.mean(B, axis=0)\n",
    "\n",
    "    # centered point clouds\n",
    "    Ac = A - np.tile(Am, (N, 1))\n",
    "    Bc = B - np.tile(Bm, (N, 1))\n",
    "\n",
    "    H = np.transpose(Bc) * Ac # NOTE: Kabsch; H = P^T \\cdot Q\n",
    "    if scale: H /= N\n",
    "\n",
    "    \"\"\"\n",
    "    Based on rotation formula, optimal rotation R is\n",
    "\n",
    "    R = sqrt(H^T \\cdot H) \\cdot H^-1\n",
    "\n",
    "    since directly solving this is complicated and hard to handle edge cases (e.g., singular H), use SVD\n",
    "    \"\"\"\n",
    "\n",
    "    U, S, Vt = np.linalg.svd(H) # NOTE: Kabsch; H = USV^T\n",
    "    \n",
    "    R = Vt.T * U.T # NOTE: Kabsch; R = V \\cdot U^T\n",
    "\n",
    "    # special reflection case\n",
    "    if np.linalg.det(R) < 0:\n",
    "        print(\"[DEBUG] Reflection detected\")\n",
    "        Vt[2, :] *= -1\n",
    "        R = Vt.T * U.T\n",
    "    \n",
    "    if scale:\n",
    "        Avar = np.var(A, axis=0).sum()\n",
    "        c = 1 / (1 / Avar * np.sum(S)) # scale singular value\n",
    "        t = -R * (Bm.T * c) + Am.T\n",
    "        \n",
    "    else:\n",
    "        c = 1\n",
    "        t = -R.dot(Bm.T) + Am.T\n",
    "\n",
    "    return c, R, t\n",
    "\n",
    "s, R, t = rigid_transform_3D(A, B, True)\n",
    "print(s)\n",
    "print(f\"{R=}\")\n",
    "print(f\"{t=}\")"
   ]
  },
  {
   "cell_type": "code",
   "execution_count": 48,
   "metadata": {},
   "outputs": [
    {
     "name": "stdout",
     "output_type": "stream",
     "text": [
      "[[10. 10. 10.]\n",
      " [20. 10. 10.]\n",
      " [20. 10. 15.]]\n",
      "[[ 9.99976807  9.99973596  9.99981013]\n",
      " [19.99927196  9.99973596  9.99979032]\n",
      " [19.99968994  9.99973596 14.99999987]]\n"
     ]
    }
   ],
   "source": [
    "# validation\n",
    "\n",
    "A2 = (R * B.T) + np.tile(t, (1, n))\n",
    "A2 = A2.T\n",
    "print(A)\n",
    "print(A2)\n",
    "\n"
   ]
  },
  {
   "cell_type": "code",
   "execution_count": 49,
   "metadata": {},
   "outputs": [
    {
     "name": "stdout",
     "output_type": "stream",
     "text": [
      "[[2.16015625 1.72265625 1.86595058]\n",
      " [2.17357731 1.60546875 1.85546875]\n",
      " [2.69921875 2.25390625 1.07963181]]\n",
      "[[2.04720283 2.00390625 1.62109375]\n",
      " [1.72302353 1.94140625 1.40234375]\n",
      " [1.23046875 2.46200871 1.55078125]]\n",
      "<class 'numpy.matrix'>\n"
     ]
    }
   ],
   "source": [
    "# evaluate with \n",
    "P_selected = np.asmatrix( np.loadtxt(\"P_selected.txt\"))\n",
    "Q_selected = np.asmatrix(np.loadtxt(\"Q_selected.txt\"))\n",
    "\n",
    "print(P_selected)\n",
    "print(Q_selected)\n",
    "print(type(P_selected))"
   ]
  },
  {
   "cell_type": "code",
   "execution_count": 51,
   "metadata": {},
   "outputs": [
    {
     "name": "stdout",
     "output_type": "stream",
     "text": [
      "[[2.16015625 1.72265625 1.86595058]\n",
      " [2.17357731 1.60546875 1.85546875]\n",
      " [2.69921875 2.25390625 1.07963181]]\n",
      "[[2.105586   1.81504416 1.93535721]\n",
      " [2.31675078 1.6321899  1.65460148]\n",
      " [2.61061553 2.13479719 1.21109245]]\n"
     ]
    }
   ],
   "source": [
    "# without scaling\n",
    "\n",
    "s, R, t = rigid_transform_3D(P_selected, Q_selected, False)\n",
    "P_selected2 = (R * Q_selected.T) + np.tile(t, (1, 3))\n",
    "P_selected2 = P_selected2.T\n",
    "print(P_selected)\n",
    "print(P_selected2)"
   ]
  },
  {
   "cell_type": "code",
   "execution_count": 52,
   "metadata": {},
   "outputs": [
    {
     "name": "stdout",
     "output_type": "stream",
     "text": [
      "[DEBUG] Reflection detected\n",
      "[[2.16015625 1.72265625 1.86595058]\n",
      " [2.17357731 1.60546875 1.85546875]\n",
      " [2.69921875 2.25390625 1.07963181]]\n",
      "[[2.23071229 0.90547425 1.38836503]\n",
      " [2.44187707 0.72261999 1.10760929]\n",
      " [2.73574182 1.22522728 0.66410027]]\n"
     ]
    }
   ],
   "source": [
    "# with scaling\n",
    "\n",
    "s, R, t = rigid_transform_3D(P_selected, Q_selected, True)\n",
    "P_selected2 = (R * Q_selected.T) + np.tile(t, (1, 3))\n",
    "P_selected2 = P_selected2.T\n",
    "print(P_selected)\n",
    "print(P_selected2)"
   ]
  },
  {
   "cell_type": "code",
   "execution_count": null,
   "metadata": {},
   "outputs": [],
   "source": []
  }
 ],
 "metadata": {
  "kernelspec": {
   "display_name": "Python 3.8.13 ('augmented_safeguard')",
   "language": "python",
   "name": "python3"
  },
  "language_info": {
   "codemirror_mode": {
    "name": "ipython",
    "version": 3
   },
   "file_extension": ".py",
   "mimetype": "text/x-python",
   "name": "python",
   "nbconvert_exporter": "python",
   "pygments_lexer": "ipython3",
   "version": "3.8.13"
  },
  "orig_nbformat": 4,
  "vscode": {
   "interpreter": {
    "hash": "f6e065247eafcfc38e759ff65623e68bd138303abb29ffb78a0dd2326e63a2ed"
   }
  }
 },
 "nbformat": 4,
 "nbformat_minor": 2
}
