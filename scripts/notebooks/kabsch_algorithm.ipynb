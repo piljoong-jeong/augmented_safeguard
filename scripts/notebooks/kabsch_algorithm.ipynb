{
 "cells": [
  {
   "cell_type": "code",
   "execution_count": 4,
   "metadata": {},
   "outputs": [],
   "source": [
    "import numpy as np\n"
   ]
  },
  {
   "cell_type": "code",
   "execution_count": 9,
   "metadata": {},
   "outputs": [
    {
     "name": "stdout",
     "output_type": "stream",
     "text": [
      "(3, 3)\n",
      "(4, 4)\n"
     ]
    }
   ],
   "source": [
    "# dataset generation\n",
    "# points\n",
    "A = np.matrix([[10.0,10.0,10.0],\n",
    "               [20.0,10.0,10.0],\n",
    "               [20.0,10.0,15.0]])\n",
    "\n",
    "B = np.matrix([[18.8106,17.6222,12.8169],\n",
    "               [28.6581,19.3591,12.8173],\n",
    "               [28.9554, 17.6748, 17.5159]])\n",
    "\n",
    "\n",
    "# transformations\n",
    "T_src = np.matrix([[0.9848, 0.1737,0.0000,-11.5865],\n",
    "                   [-0.1632,0.9254,0.3420, -7.621],\n",
    "                   [0.0594,-0.3369,0.9400,2.7752],\n",
    "                   [0.0000, 0.0000,0.0000,1.0000]])\n",
    "T_dst = np.matrix([[0.9848, 0.1737,0.0000,-11.5859],\n",
    "                   [-0.1632,0.9254,0.3420, -7.621],\n",
    "                   [0.0594,-0.3369,0.9400,2.7755],\n",
    "                   [0.0000, 0.0000,0.0000,1.0000]])\n",
    "\n",
    "print(A.shape)\n",
    "print(T_src.shape)\n",
    "\n",
    "scaling = False"
   ]
  },
  {
   "cell_type": "code",
   "execution_count": 12,
   "metadata": {},
   "outputs": [],
   "source": [
    "def rigid_transform_3D(A, B, scale):\n",
    "\n",
    "    assert len(A) == len(B)\n",
    "    N = A.shape[0]\n",
    "\n",
    "    Am = np.mean(A, axis=0)\n",
    "    Bm = np.mean(B, axis=0)\n",
    "\n",
    "    Ac = A - np.tile(Am, (N, 1))\n",
    "    Bc = B - np.tile(Bm, (N, 1))\n",
    "\n",
    "    H = np.transpose(Bc) * Ac # NOTE: Kabsch; H = P^T \\cdot Q\n",
    "    if scale: H /= N\n",
    "\n",
    "    \"\"\"\n",
    "    Based on rotatoin formula, optimal rotation R is\n",
    "\n",
    "    R = sqrt(H^T \\cdot H) \\cdot H^-1\n",
    "\n",
    "    since directly solving this is complicated and hard to handle edge cases (e.g., singular H), use SVD\n",
    "    \"\"\"\n",
    "\n",
    "    U, S, Vt = np.linalg.svd(H) # NOTE: Kabsch; H = USV^T\n",
    "    \n",
    "    R = Vt.T * U.T # NOTE: Kabsch; R = V \\cdot U^T\n",
    "\n",
    "    # special reflection case\n",
    "    if np.linalg.det(R) < 0:\n",
    "        print(\"[DEBUG] Reflection detected\")\n",
    "        Vt[2, :] *= -1\n",
    "        R = Vt.T * U.T\n",
    "    \n",
    "    if scale:\n",
    "        Avar = np.var(A, axis=0).sum()\n",
    "        c = 1 / (1 / Avar * np.sum(S)) # scale singular value\n",
    "        t = -R * (Bc.T * c) + Ac.T\n",
    "        \n",
    "    else:\n",
    "        c = 1\n",
    "        t = -R * Bc.T + Ac.T\n",
    "\n",
    "    return c, R, t\n",
    "\n",
    "s, R, t = rigid_transform_3D(A, B, False)"
   ]
  },
  {
   "cell_type": "code",
   "execution_count": null,
   "metadata": {},
   "outputs": [],
   "source": []
  }
 ],
 "metadata": {
  "kernelspec": {
   "display_name": "Python 3.8.13 ('augmented_safeguard')",
   "language": "python",
   "name": "python3"
  },
  "language_info": {
   "codemirror_mode": {
    "name": "ipython",
    "version": 3
   },
   "file_extension": ".py",
   "mimetype": "text/x-python",
   "name": "python",
   "nbconvert_exporter": "python",
   "pygments_lexer": "ipython3",
   "version": "3.8.13"
  },
  "orig_nbformat": 4,
  "vscode": {
   "interpreter": {
    "hash": "f6e065247eafcfc38e759ff65623e68bd138303abb29ffb78a0dd2326e63a2ed"
   }
  }
 },
 "nbformat": 4,
 "nbformat_minor": 2
}
