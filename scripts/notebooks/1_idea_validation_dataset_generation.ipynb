{
 "cells": [
  {
   "cell_type": "markdown",
   "metadata": {},
   "source": [
    "#### Idea Validation Dataset Generation\n"
   ]
  },
  {
   "cell_type": "code",
   "execution_count": 19,
   "metadata": {},
   "outputs": [],
   "source": [
    "# imports\n",
    "\n",
    "import os\n",
    "import sys\n",
    "\n",
    "import numpy as np\n",
    "\n",
    "import open3d as o3d\n",
    "sys.path.append(\"..\")\n",
    "import open3d_tutorial as o3dtut\n",
    "o3dtut.interactive = not \"CI\" in os.environ\n",
    "import open3d_trajectory\n",
    "from open3d_trajectory import CameraPose\n"
   ]
  },
  {
   "cell_type": "code",
   "execution_count": 23,
   "metadata": {},
   "outputs": [
    {
     "name": "stdout",
     "output_type": "stream",
     "text": [
      "[[ 0.99998404  0.00347606  0.00445398  1.99967872]\n",
      " [-0.00346543  0.99999113 -0.00239271  2.0013197 ]\n",
      " [-0.00446226  0.00237724  0.99998722 -0.29999364]\n",
      " [ 0.          0.          0.          1.        ]]\n",
      "CPU times: user 510 ms, sys: 0 ns, total: 510 ms\n",
      "Wall time: 704 ms\n"
     ]
    }
   ],
   "source": [
    "%%time\n",
    "\n",
    "# dataset\n",
    "dir_dataset_root = \"/mnt/d/ICCV2017/\"\n",
    "name_scene = \"apartment\"\n",
    "dir_dataset = os.path.join(dir_dataset_root, name_scene)\n",
    "\n",
    "dir_color = os.path.join(dir_dataset, \"image\")\n",
    "dir_depth = os.path.join(dir_dataset, \"depth\")\n",
    "list_images_color = [os.path.join(dir_color, color) for color in os.listdir(dir_color)]\n",
    "list_images_depth = [os.path.join(dir_depth, depth) for depth in os.listdir(dir_depth)]\n",
    "\n",
    "path_pose = os.path.join(dir_dataset, f\"{name_scene}.log\")\n",
    "list_poses = open3d_trajectory.read_trajectory(path_pose)\n",
    "print(list_poses[1])"
   ]
  },
  {
   "cell_type": "code",
   "execution_count": 24,
   "metadata": {},
   "outputs": [
    {
     "name": "stdout",
     "output_type": "stream",
     "text": [
      "[[-0.69289809 -0.49963333  1.153     ]\n",
      " [-0.6907019  -0.49963333  1.153     ]\n",
      " [-0.68850571 -0.49963333  1.153     ]\n",
      " ...\n",
      " [ 0.69084288  0.57134573  1.30700004]\n",
      " [ 0.6933324   0.57134573  1.30700004]\n",
      " [ 0.69582193  0.57134573  1.30700004]]\n"
     ]
    }
   ],
   "source": [
    "# unproject from image\n",
    "\n",
    "color = o3d.io.read_image(list_images_color[0])\n",
    "depth = o3d.io.read_image(list_images_depth[0])\n",
    "rgbd = o3d.geometry.RGBDImage.create_from_color_and_depth(\n",
    "    color, depth\n",
    ")\n",
    "\n",
    "pcd = o3d.geometry.PointCloud.create_from_rgbd_image(\n",
    "    rgbd, o3d.camera.PinholeCameraIntrinsic(\n",
    "        o3d.camera.PinholeCameraIntrinsicParameters.PrimeSenseDefault\n",
    "    )\n",
    ")\n",
    "\n",
    "# o3d.visualization.draw_geometries([pcd], zoom=0.5) # FIXME\n",
    "print(np.asarray(pcd.points))\n"
   ]
  },
  {
   "cell_type": "code",
   "execution_count": 32,
   "metadata": {},
   "outputs": [
    {
     "name": "stdout",
     "output_type": "stream",
     "text": [
      "[[ 7.35286847  7.46671946 -0.06464212]\n",
      " [ 7.3550641   7.46668916 -0.06468143]\n",
      " [ 7.35725973  7.46665886 -0.06472073]\n",
      " ...\n",
      " [ 8.75394992  8.51696756  0.07464509]\n",
      " [ 8.7564388   8.51693321  0.07460054]\n",
      " [ 8.75892769  8.51689887  0.07455598]]\n"
     ]
    }
   ],
   "source": [
    "# transform\n",
    "pcd_world = pcd.transform(list_poses[1].pose)\n",
    "print(np.asarray(pcd_world.points))"
   ]
  },
  {
   "cell_type": "code",
   "execution_count": null,
   "metadata": {},
   "outputs": [],
   "source": [
    "# validate: find transformation from `pcd` ~ `pcd_world`\n",
    "# NOTE: docker image required?\n"
   ]
  }
 ],
 "metadata": {
  "kernelspec": {
   "display_name": "Python 3.8.13 ('augmented_safeguard')",
   "language": "python",
   "name": "python3"
  },
  "language_info": {
   "codemirror_mode": {
    "name": "ipython",
    "version": 3
   },
   "file_extension": ".py",
   "mimetype": "text/x-python",
   "name": "python",
   "nbconvert_exporter": "python",
   "pygments_lexer": "ipython3",
   "version": "3.8.13"
  },
  "orig_nbformat": 4,
  "vscode": {
   "interpreter": {
    "hash": "f6e065247eafcfc38e759ff65623e68bd138303abb29ffb78a0dd2326e63a2ed"
   }
  }
 },
 "nbformat": 4,
 "nbformat_minor": 2
}
