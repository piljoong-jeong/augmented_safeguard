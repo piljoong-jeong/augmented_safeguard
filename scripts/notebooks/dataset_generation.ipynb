{
 "cells": [
  {
   "cell_type": "code",
   "execution_count": 2,
   "metadata": {},
   "outputs": [
    {
     "name": "stdout",
     "output_type": "stream",
     "text": [
      "Jupyter environment detected. Enabling Open3D WebVisualizer.\n",
      "[Open3D INFO] WebRTC GUI backend enabled.\n",
      "[Open3D INFO] WebRTCWindowSystem: HTTP handshake server disabled.\n"
     ]
    }
   ],
   "source": [
    "import os\n",
    "import sys\n",
    "\n",
    "import numpy as np \n",
    "import open3d as o3d\n"
   ]
  },
  {
   "cell_type": "code",
   "execution_count": 84,
   "metadata": {},
   "outputs": [
    {
     "name": "stdout",
     "output_type": "stream",
     "text": [
      "[[1.01953125 0.88671875 2.27726722]\n",
      " [1.04296875 0.88671875 2.27699804]\n",
      " [1.05859375 0.88671875 2.27722216]\n",
      " ...\n",
      " [1.26609075 2.37890625 2.26171875]\n",
      " [1.26171875 2.38015151 2.26171875]\n",
      " [1.26171875 2.37890625 2.26367211]]\n",
      "[[0.27405298 1.02095513 1.12868408]\n",
      " [0.29389196 1.01755603 1.1406841 ]\n",
      " [0.30689903 1.01520229 1.14901173]\n",
      " ...\n",
      " [0.49888183 2.42827751 1.63517043]\n",
      " [0.49521603 2.43012446 1.63321714]\n",
      " [0.49414874 2.42849813 1.63447699]]\n",
      "(198835, 3)\n",
      "(198835, 3)\n"
     ]
    }
   ],
   "source": [
    "# demo_icp_clouds = o3d.data.DemoICPPointClouds()\n",
    "src = o3d.io.read_point_cloud(\"src.ply\")\n",
    "dst = o3d.io.read_point_cloud(\"dst.ply\")\n",
    "P = np.asarray(src.points)\n",
    "Q = np.asarray(dst.points)\n",
    "\n",
    "print(P)\n",
    "print(Q)\n",
    "print(P.shape)\n",
    "print(Q.shape)"
   ]
  },
  {
   "cell_type": "code",
   "execution_count": 88,
   "metadata": {},
   "outputs": [
    {
     "name": "stdout",
     "output_type": "stream",
     "text": [
      "198835\n",
      "198834\n",
      "66278\n",
      "[[ 78262  67929 134603]\n",
      " [160826  67523 189929]\n",
      " [158760 124440 183588]\n",
      " ...\n",
      " [ 34847   3286  14959]\n",
      " [  8146  61206  53642]\n",
      " [101630 126649 169133]]\n",
      "(66278, 3)\n",
      "[[2.16015625 1.72265625 1.86595058]\n",
      " [2.17357731 1.60546875 1.85546875]\n",
      " [2.69921875 2.25390625 1.07963181]]\n",
      "<class 'numpy.matrix'>\n",
      "[[1.46072831 1.74892238 1.60820396]\n",
      " [1.47696625 1.63610562 1.5760181 ]\n",
      " [2.34348337 2.35300524 1.38992812]]\n",
      "<class 'numpy.matrix'>\n",
      "(3, 3)\n",
      "(3, 3)\n"
     ]
    }
   ],
   "source": [
    "# Kabsch algorithm for unique random pairs\n",
    "\n",
    "print(P.shape[0])\n",
    "N_all = P.shape[0] - P.shape[0]%P.shape[1]\n",
    "print(N_all) # 0 ~ 198833\n",
    "stride = int(N_all/3)\n",
    "print(stride)\n",
    "\n",
    "# unique random 3 indices\n",
    "SEED = 0 # deterministic\n",
    "indices_random = np.random.default_rng(seed=SEED).choice(P.shape[0], N_all, replace=False).reshape((stride, P.shape[1]))\n",
    "print(indices_random)\n",
    "print(indices_random.shape)\n",
    "\n",
    "# select from indices\n",
    "P_selected = np.asmatrix(P[indices_random[0]])\n",
    "# P_selected = np.asmatrix(P[0])\n",
    "print(P_selected)\n",
    "print(type(P_selected))\n",
    "Q_selected = np.asmatrix(Q[indices_random[0]])\n",
    "# Q_selected = np.asmatrix(Q[0])\n",
    "print(Q_selected)\n",
    "print(type(Q_selected))\n",
    "\n",
    "print(P_selected.shape)\n",
    "print(Q_selected.shape)"
   ]
  },
  {
   "cell_type": "code",
   "execution_count": 89,
   "metadata": {},
   "outputs": [
    {
     "name": "stdout",
     "output_type": "stream",
     "text": [
      "[DEBUG] Reflection detected\n",
      "[[ 0.84037556 -0.1469134   0.52171388]\n",
      " [ 0.00625204  0.96512718  0.26170677]\n",
      " [-0.54196848 -0.21667019  0.81198781]]\n",
      "[[ 0.35045859]\n",
      " [-0.39533494]\n",
      " [ 1.73079657]]\n"
     ]
    }
   ],
   "source": [
    "def rigid_transform_3D(A, B, scale):\n",
    "\n",
    "    assert len(A) == len(B)\n",
    "    N = A.shape[0]\n",
    "\n",
    "    # mean of each point cloud\n",
    "    Am = np.mean(A, axis=0)\n",
    "    Bm = np.mean(B, axis=0)\n",
    "\n",
    "    # if len(Am.shape) == 1: Am = Am.reshape(1, N)\n",
    "    # if len(Bm.shape) == 1: Bm = Bm.reshape(1, N)\n",
    "\n",
    "    # centered point clouds\n",
    "    Ac = A - np.tile(Am, (N, 1))\n",
    "    Bc = B - np.tile(Bm, (N, 1))\n",
    "\n",
    "    H = np.transpose(Bc) * Ac # NOTE: Kabsch; H = P^T \\cdot Q\n",
    "    if scale: H /= N\n",
    "\n",
    "    \"\"\"\n",
    "    Based on rotation formula, optimal rotation R is\n",
    "\n",
    "    R = sqrt(H^T \\cdot H) \\cdot H^-1\n",
    "\n",
    "    since directly solving this is complicated and hard to handle edge cases (e.g., singular H), use SVD\n",
    "    \"\"\"\n",
    "\n",
    "    U, S, Vt = np.linalg.svd(H) # NOTE: Kabsch; H = USV^T\n",
    "    \n",
    "    R = Vt.T * U.T # NOTE: Kabsch; R = V \\cdot U^T\n",
    "\n",
    "    # special reflection case\n",
    "    if np.linalg.det(R) < 0:\n",
    "        print(\"[DEBUG] Reflection detected\")\n",
    "        Vt[2, :] *= -1\n",
    "        R = Vt.T * U.T\n",
    "    \n",
    "    if scale:\n",
    "        Avar = np.var(A, axis=0).sum()\n",
    "        c = 1 / (1 / Avar * np.sum(S)) # scale singular value\n",
    "        t = -R.dot(Bm.T * c) + Am.T\n",
    "        \n",
    "    else:\n",
    "        c = 1\n",
    "        t = -R.dot(Bm.T) + Am.T\n",
    "\n",
    "    return c, R, t\n",
    "\n",
    "\n",
    "s, R, t = rigid_transform_3D(P_selected, Q_selected, False)\n",
    "print(R)\n",
    "print(t)"
   ]
  },
  {
   "cell_type": "code",
   "execution_count": 90,
   "metadata": {},
   "outputs": [
    {
     "name": "stdout",
     "output_type": "stream",
     "text": [
      "[[2.16015625 1.72265625 1.86595058]\n",
      " [2.17357731 1.60546875 1.85546875]\n",
      " [2.69921875 2.25390625 1.07963181]]\n",
      "[[2.16010116 1.72260799 1.86603053]\n",
      " [2.17352962 1.60540373 1.85553958]\n",
      " [2.69932154 2.25401953 1.07948104]]\n"
     ]
    }
   ],
   "source": [
    "P_selected2 = (R * Q_selected.T) + np.tile(t, (1, 3))\n",
    "P_selected2 = P_selected2.T\n",
    "print(P_selected)\n",
    "print(P_selected2)"
   ]
  },
  {
   "cell_type": "code",
   "execution_count": 91,
   "metadata": {},
   "outputs": [],
   "source": [
    "# export point clouds\n",
    "\n",
    "np.savetxt(\"P_selected.txt\", P_selected)\n",
    "np.savetxt(\"Q_selected.txt\", Q_selected)"
   ]
  },
  {
   "cell_type": "code",
   "execution_count": 93,
   "metadata": {},
   "outputs": [
    {
     "name": "stdout",
     "output_type": "stream",
     "text": [
      "[[2.16015625 1.72265625 1.86595058]]\n",
      "[[2.16015625 1.72265625 1.86595058]]\n"
     ]
    }
   ],
   "source": [
    "# TODO: check ordering\n",
    "\n",
    "T = np.loadtxt(\"reg_p2l.txt\")\n",
    "\n",
    "q_h = np.ndarray((Q_selected[0].shape[0], Q_selected[0].shape[1]+1))\n",
    "q_h[:, :3] = Q_selected[0]\n",
    "q_h[:, 3] = 1.0\n",
    "q_h = q_h.T\n",
    "\n",
    "Tq = np.linalg.inv(T).dot(q_h).T[:, :3]\n",
    "print(Tq)\n",
    "print(P_selected[0])"
   ]
  },
  {
   "cell_type": "code",
   "execution_count": null,
   "metadata": {},
   "outputs": [],
   "source": []
  }
 ],
 "metadata": {
  "kernelspec": {
   "display_name": "Python 3.8.13 ('augmented_safeguard')",
   "language": "python",
   "name": "python3"
  },
  "language_info": {
   "codemirror_mode": {
    "name": "ipython",
    "version": 3
   },
   "file_extension": ".py",
   "mimetype": "text/x-python",
   "name": "python",
   "nbconvert_exporter": "python",
   "pygments_lexer": "ipython3",
   "version": "3.8.13"
  },
  "orig_nbformat": 4,
  "vscode": {
   "interpreter": {
    "hash": "f6e065247eafcfc38e759ff65623e68bd138303abb29ffb78a0dd2326e63a2ed"
   }
  }
 },
 "nbformat": 4,
 "nbformat_minor": 2
}
