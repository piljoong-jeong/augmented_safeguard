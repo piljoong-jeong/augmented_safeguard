{
 "cells": [
  {
   "cell_type": "code",
   "execution_count": 15,
   "metadata": {},
   "outputs": [],
   "source": [
    "import copy\n",
    "import os \n",
    "import sys\n",
    "\n",
    "import numpy as np\n",
    "import open3d as o3d"
   ]
  },
  {
   "cell_type": "code",
   "execution_count": 33,
   "metadata": {},
   "outputs": [
    {
     "name": "stdout",
     "output_type": "stream",
     "text": [
      "PointCloud with 198835 points.\n",
      "std::vector<Eigen::Vector3d> with 198835 elements.\n",
      "Use numpy.asarray() to access data.\n",
      "[[ 8.82026173e-03  2.00078604e-03  4.89368992e-03]\n",
      " [ 1.12044660e-02  9.33778995e-03 -4.88638940e-03]\n",
      " [ 4.75044209e-03 -7.56786041e-04 -5.16094259e-04]\n",
      " ...\n",
      " [-5.05037959e-03 -6.88794606e-03 -9.49988538e-03]\n",
      " [-5.02440760e-03 -2.68379635e-04 -4.32011874e-03]\n",
      " [-3.47708674e-07 -4.56205985e-03 -3.45473604e-03]]\n",
      "(198835, 3)\n"
     ]
    }
   ],
   "source": [
    "pc = o3d.io.read_point_cloud(\"dst.ply\")\n",
    "print(pc)\n",
    "\n",
    "sigma = 0.005\n",
    "SEED = 0\n",
    "print(pc.points)\n",
    "np.random.seed(SEED)\n",
    "noise = np.random.normal(0, sigma, np.asarray(pc.points).shape)\n",
    "print(noise)\n",
    "print(noise.shape)\n"
   ]
  },
  {
   "cell_type": "code",
   "execution_count": 34,
   "metadata": {},
   "outputs": [
    {
     "name": "stdout",
     "output_type": "stream",
     "text": [
      "[[0.27405298 1.02095513 1.12868408]\n",
      " [0.29389196 1.01755603 1.1406841 ]\n",
      " [0.30689903 1.01520229 1.14901173]\n",
      " ...\n",
      " [0.49888183 2.42827751 1.63517043]\n",
      " [0.49521603 2.43012446 1.63321714]\n",
      " [0.49414874 2.42849813 1.63447699]]\n",
      "[[ 8.82026173e-03  2.00078604e-03  4.89368992e-03]\n",
      " [ 1.12044660e-02  9.33778995e-03 -4.88638940e-03]\n",
      " [ 4.75044209e-03 -7.56786041e-04 -5.16094259e-04]\n",
      " ...\n",
      " [-5.05037959e-03 -6.88794606e-03 -9.49988538e-03]\n",
      " [-5.02440760e-03 -2.68379635e-04 -4.32011874e-03]\n",
      " [-3.47708674e-07 -4.56205985e-03 -3.45473604e-03]]\n"
     ]
    },
    {
     "data": {
      "text/plain": [
       "True"
      ]
     },
     "execution_count": 34,
     "metadata": {},
     "output_type": "execute_result"
    }
   ],
   "source": [
    "\n",
    "pc_with_noise = copy.deepcopy(pc)\n",
    "print(np.asarray(pc.points))\n",
    "print(noise)\n",
    "points_with_noise = np.asarray(pc.points) + noise\n",
    "pc_with_noise.points = o3d.utility.Vector3dVector(points_with_noise)\n",
    "\n",
    "o3d.io.write_point_cloud(f\"dst_noise_{sigma}.ply\", pc_with_noise)"
   ]
  },
  {
   "cell_type": "code",
   "execution_count": 12,
   "metadata": {},
   "outputs": [
    {
     "data": {
      "text/plain": [
       "True"
      ]
     },
     "execution_count": 12,
     "metadata": {},
     "output_type": "execute_result"
    }
   ],
   "source": [
    "pc_noise = o3d.geometry.PointCloud()\n",
    "pc_noise.points = o3d.utility.Vector3dVector(noise)\n",
    "o3d.io.write_point_cloud(\"noise.ply\", pc_noise)"
   ]
  },
  {
   "cell_type": "code",
   "execution_count": null,
   "metadata": {},
   "outputs": [],
   "source": []
  }
 ],
 "metadata": {
  "kernelspec": {
   "display_name": "Python 3.8.13 ('augmented_safeguard')",
   "language": "python",
   "name": "python3"
  },
  "language_info": {
   "codemirror_mode": {
    "name": "ipython",
    "version": 3
   },
   "file_extension": ".py",
   "mimetype": "text/x-python",
   "name": "python",
   "nbconvert_exporter": "python",
   "pygments_lexer": "ipython3",
   "version": "3.8.13"
  },
  "orig_nbformat": 4,
  "vscode": {
   "interpreter": {
    "hash": "f6e065247eafcfc38e759ff65623e68bd138303abb29ffb78a0dd2326e63a2ed"
   }
  }
 },
 "nbformat": 4,
 "nbformat_minor": 2
}
