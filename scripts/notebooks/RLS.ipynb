{
 "cells": [
  {
   "cell_type": "code",
   "execution_count": 2,
   "metadata": {},
   "outputs": [
    {
     "name": "stdout",
     "output_type": "stream",
     "text": [
      "Jupyter environment detected. Enabling Open3D WebVisualizer.\n",
      "[Open3D INFO] WebRTC GUI backend enabled.\n",
      "[Open3D INFO] WebRTCWindowSystem: HTTP handshake server disabled.\n"
     ]
    }
   ],
   "source": [
    "import os\n",
    "import sys\n",
    "\n",
    "import numpy as np\n",
    "import open3d as o3d"
   ]
  },
  {
   "cell_type": "code",
   "execution_count": 3,
   "metadata": {},
   "outputs": [],
   "source": [
    "# dataset\n",
    "src = o3d.io.read_point_cloud(\"src.ply\")\n",
    "dst = o3d.io.read_point_cloud(\"dst.ply\")\n",
    "\n",
    "Xall = np.asarray(src.points)\n",
    "Yall = np.asarray(dst.points)\n",
    "\n",
    "const_buf = np.ones((Xall.shape[0], 1))\n",
    "Xall = np.concatenate((const_buf, Xall), axis=1) # 1+ local position\n",
    "Yalls = np.hsplit(Yall, Yall.shape[1]) # independent global coordinate "
   ]
  },
  {
   "cell_type": "code",
   "execution_count": 85,
   "metadata": {},
   "outputs": [
    {
     "name": "stdout",
     "output_type": "stream",
     "text": [
      "[[-29.96628819]\n",
      " [-37.67119207]\n",
      " [ 99.36610004]\n",
      " [-80.39318209]]\n",
      "[-0.01247181]\n",
      "[100.70198346]\n"
     ]
    }
   ],
   "source": [
    "# recursive least squares\n",
    "\n",
    "k = 3 # initial\n",
    "\n",
    "X = Xall[:k]\n",
    "# print(X)\n",
    "# print(X.shape) # (k, 1+|features|)\n",
    "\n",
    "dim_target = 0 # x, y, z\n",
    "Y = Yalls[dim_target][:k] # TODO: do each RLS for each dimension!\n",
    "# print(Y)\n",
    "# print(Y.shape) # (k, 1)\n",
    "\n",
    "P = np.linalg.inv(X.T @ X) # NOTE: inverse covariance matrix\n",
    "# print(P)\n",
    "# print(P.shape) # (1+|features|, 1+|features|)\n",
    "\n",
    "beta = P @ X.T @ Y\n",
    "# print(beta)\n",
    "# print(beta.shape) # (1+|features|, 1), first dimension is intercept\n",
    "\n",
    "\n",
    "for k in range(4, Xall.shape[0]):\n",
    "\n",
    "    # print(k)\n",
    "\n",
    "    z = Xall[k].reshape((Xall[k].shape[0], 1))\n",
    "    y = Yalls[dim_target][k]\n",
    "    \n",
    "\n",
    "    G = (P @ z) / (1 + z.T @ P @ z) # weight\n",
    "    # print(G)\n",
    "    # print(G.shape) # (1, 1+|features|)\n",
    "    \n",
    "    P = P - ((G @ z.T) * P)\n",
    "    # print(P)\n",
    "    # print(P.shape) # (1+|features|, 1+|features|)\n",
    "\n",
    "    beta = beta + G * (y - beta.T @ z)\n",
    "    # print(beta)\n",
    "    # print(beta.shape) # (1+|features|, 1)\n",
    "\n",
    "    # break\n",
    "\n",
    "print(beta)\n",
    "idx_eval = 101\n",
    "x_eval = Xall[idx_eval]\n",
    "# print(x_eval)\n",
    "# print(np.concatenate([x_eval[1:], x_eval[0]]))\n",
    "# print(x_eval[1:])\n",
    "# print(x_eval[0])\n",
    "# print(np.array(x_eval[0]).reshape(1))\n",
    "# print(np.concatenate([x_eval[1:], np.array(x_eval[0]).reshape(1)], axis=0))\n",
    "x_eval = np.concatenate([x_eval[1:], np.array(x_eval[0]).reshape(1)], axis=0)\n",
    "\n",
    "y_eval = Yalls[dim_target][idx_eval]\n",
    "print(y_eval)\n",
    "print(x_eval.dot(beta))\n"
   ]
  },
  {
   "cell_type": "code",
   "execution_count": 88,
   "metadata": {},
   "outputs": [
    {
     "name": "stdout",
     "output_type": "stream",
     "text": [
      "[[-29.96628819]\n",
      " [-37.67119207]\n",
      " [ 99.36610004]\n",
      " [-80.39318209]]\n",
      "[-0.01247181]\n",
      "[100.70198346]\n"
     ]
    }
   ],
   "source": [
    "# modulization check\n",
    "\n",
    "from RLS_module import RLS\n",
    "\n",
    "solver = RLS(X, Y)\n",
    "# print(solver.beta)\n",
    "\n",
    "for k in range(4, Xall.shape[0]):\n",
    "    x = Xall[k]\n",
    "    y = Yalls[dim_target][k]\n",
    "    solver.add_new(x, y)\n",
    "\n",
    "print(solver.beta)\n",
    "\n",
    "idx_eval = 101\n",
    "x_eval = Xall[idx_eval]\n",
    "y_eval = Yalls[dim_target][idx_eval]\n",
    "print(y_eval)\n",
    "print(solver.evaluate(x_eval))"
   ]
  },
  {
   "cell_type": "code",
   "execution_count": null,
   "metadata": {},
   "outputs": [],
   "source": []
  }
 ],
 "metadata": {
  "kernelspec": {
   "display_name": "Python 3.8.13 ('augmented_safeguard')",
   "language": "python",
   "name": "python3"
  },
  "language_info": {
   "codemirror_mode": {
    "name": "ipython",
    "version": 3
   },
   "file_extension": ".py",
   "mimetype": "text/x-python",
   "name": "python",
   "nbconvert_exporter": "python",
   "pygments_lexer": "ipython3",
   "version": "3.8.13"
  },
  "orig_nbformat": 4,
  "vscode": {
   "interpreter": {
    "hash": "f6e065247eafcfc38e759ff65623e68bd138303abb29ffb78a0dd2326e63a2ed"
   }
  }
 },
 "nbformat": 4,
 "nbformat_minor": 2
}
