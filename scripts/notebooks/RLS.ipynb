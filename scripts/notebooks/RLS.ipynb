{
 "cells": [
  {
   "cell_type": "code",
   "execution_count": 1,
   "metadata": {},
   "outputs": [
    {
     "name": "stdout",
     "output_type": "stream",
     "text": [
      "Jupyter environment detected. Enabling Open3D WebVisualizer.\n",
      "[Open3D INFO] WebRTC GUI backend enabled.\n",
      "[Open3D INFO] WebRTCWindowSystem: HTTP handshake server disabled.\n"
     ]
    }
   ],
   "source": [
    "import os\n",
    "import sys\n",
    "\n",
    "import numpy as np\n",
    "import open3d as o3d"
   ]
  },
  {
   "cell_type": "code",
   "execution_count": 2,
   "metadata": {},
   "outputs": [],
   "source": [
    "# dataset\n",
    "src = o3d.io.read_point_cloud(\"src.ply\")\n",
    "dst = o3d.io.read_point_cloud(\"dst.ply\")\n",
    "\n",
    "Xall = np.asarray(src.points)\n",
    "Yall = np.asarray(dst.points)\n",
    "\n",
    "const_buf = np.ones((Xall.shape[0], 1))\n",
    "Xall = np.concatenate((const_buf, Xall), axis=1) # 1+ local position\n",
    "Yalls = np.hsplit(Yall, Yall.shape[1]) # independent global coordinate "
   ]
  },
  {
   "cell_type": "code",
   "execution_count": 3,
   "metadata": {},
   "outputs": [],
   "source": [
    "# recursive least squares\n",
    "\n",
    "k = 3 # initial\n",
    "\n",
    "X = Xall[:k]\n",
    "# print(X)\n",
    "# print(X.shape) # (k, 1+|features|)\n",
    "\n",
    "dim_target = 0 # x, y, z\n",
    "Y = Yalls[dim_target][:k] # TODO: do each RLS for each dimension!\n",
    "# print(Y)\n",
    "# print(Y.shape) # (k, 1)\n",
    "\n",
    "P = np.linalg.inv(X.T @ X) # NOTE: inverse covariance matrix\n",
    "# print(P)\n",
    "# print(P.shape) # (1+|features|, 1+|features|)\n",
    "\n",
    "beta = P @ X.T @ Y\n",
    "# print(beta)\n",
    "# print(beta.shape) # (1+|features|, 1), first dimension is intercept\n",
    "\n",
    "\n",
    "for k in range(4, Xall.shape[0]):\n",
    "\n",
    "    # print(k)\n",
    "\n",
    "    z = Xall[k].reshape((Xall[k].shape[0], 1))\n",
    "    y = Yalls[dim_target][k]\n",
    "    \n",
    "\n",
    "    G = (P @ z) / (1 + z.T @ P @ z) # weight\n",
    "    # print(G)\n",
    "    # print(G.shape) # (1, 1+|features|)\n",
    "    \n",
    "    P = P - ((G @ z.T) * P)\n",
    "    # print(P)\n",
    "    # print(P.shape) # (1+|features|, 1+|features|)\n",
    "\n",
    "    beta = beta + G * (y - beta.T @ z)\n",
    "    # print(beta)\n",
    "    # print(beta.shape) # (1+|features|, 1)\n",
    "\n",
    "    # break\n",
    "\n",
    "print(beta)\n",
    "idx_eval = 101\n",
    "x_eval = Xall[idx_eval]\n",
    "# print(x_eval)\n",
    "# print(np.concatenate([x_eval[1:], x_eval[0]]))\n",
    "# print(x_eval[1:])\n",
    "# print(x_eval[0])\n",
    "# print(np.array(x_eval[0]).reshape(1))\n",
    "# print(np.concatenate([x_eval[1:], np.array(x_eval[0]).reshape(1)], axis=0))\n",
    "x_eval = np.concatenate([x_eval[1:], np.array(x_eval[0]).reshape(1)], axis=0)\n",
    "\n",
    "y_eval = Yalls[dim_target][idx_eval]\n",
    "print(y_eval)\n",
    "print(x_eval.dot(beta))\n"
   ]
  },
  {
   "cell_type": "code",
   "execution_count": null,
   "metadata": {},
   "outputs": [
    {
     "name": "stdout",
     "output_type": "stream",
     "text": [
      "[[-29.96628819]\n",
      " [-37.67119207]\n",
      " [ 99.36610004]\n",
      " [-80.39318209]]\n",
      "[-0.01247181]\n",
      "[100.70198346]\n"
     ]
    }
   ],
   "source": [
    "# modulization check\n",
    "\n",
    "from RLS_module import RLS\n",
    "\n",
    "solver = RLS(X, Y)\n",
    "# print(solver.beta)\n",
    "\n",
    "for k in range(4, Xall.shape[0]):\n",
    "    x = Xall[k]\n",
    "    y = Yalls[dim_target][k]\n",
    "    solver.add_new(x, y)\n",
    "\n",
    "print(solver.beta)\n",
    "\n",
    "idx_eval = 101\n",
    "x_eval = Xall[idx_eval]\n",
    "y_eval = Yalls[dim_target][idx_eval]\n",
    "print(y_eval)\n",
    "print(solver.evaluate(x_eval))"
   ]
  },
  {
   "cell_type": "code",
   "execution_count": null,
   "metadata": {},
   "outputs": [
    {
     "name": "stdout",
     "output_type": "stream",
     "text": [
      "x0=[[2.66666667]\n",
      " [2.        ]]\n",
      "x1=[[2.2]\n",
      " [2.7]]\n"
     ]
    }
   ],
   "source": [
    "# test with public data, \n",
    "# from https://github.com/adamDhalla/recursive-least-squares\n",
    "\n",
    "# initialization\n",
    "A = np.array([[1, 0], [1, 1], [1, 2]])\n",
    "b = np.array([[3], [4], [7]])\n",
    "solver = RLS(A, b)\n",
    "print(f\"x0={solver.beta}\")\n",
    "\n",
    "# update\n",
    "newA = np.array([1, 3])\n",
    "newb = np.array([11])\n",
    "solver.add_new(newA, newb)\n",
    "print(f\"x1={solver.beta}\")"
   ]
  },
  {
   "cell_type": "code",
   "execution_count": null,
   "metadata": {},
   "outputs": [
    {
     "name": "stdout",
     "output_type": "stream",
     "text": [
      "[[ 1.59159175]\n",
      " [ 0.84023324]\n",
      " [ 0.00618369]\n",
      " [-0.54244126]]\n",
      "[0.27405298]\n",
      "[-3.16006679]\n"
     ]
    }
   ],
   "source": [
    "# centerize\n",
    "Xm = np.mean(np.asarray(src.points), axis=0)\n",
    "# print(Xm)\n",
    "Xall_c = np.asarray(src.points)-np.tile(Xm, (Xall.shape[0], 1))\n",
    "Xall_c = np.concatenate((const_buf, Xall_c), axis=1) # 1+ local position\n",
    "# print(Xall)\n",
    "# print(Xall_c) # NOTE: consider scaling as well\n",
    "\n",
    "\n",
    "k_init=200 # increasing initial value somehow drops error, but is not wanted...\n",
    "X_c = Xall_c[:k_init]\n",
    "Y = Yalls[dim_target][:k_init] # TODO: do each RLS for each dimension!\n",
    "\n",
    "from RLS_module import RLS\n",
    "\n",
    "solver = RLS(X_c, Y)\n",
    "# print(solver.beta)\n",
    "\n",
    "for k in range(k_init, 500):\n",
    "    x = Xall_c[k]\n",
    "    y = Yalls[dim_target][k]\n",
    "    try:\n",
    "        solver.add_new(x, y)\n",
    "    except FloatingPointError as e:\n",
    "        print(f\"{k=} {x=} {y=}\")\n",
    "        break\n",
    "\n",
    "print(solver.beta)\n",
    "\n",
    "idx_eval = 0\n",
    "x_eval = Xall_c[idx_eval]\n",
    "y_eval = Yalls[dim_target][idx_eval]\n",
    "print(y_eval)\n",
    "print(solver.evaluate(x_eval))"
   ]
  },
  {
   "cell_type": "code",
   "execution_count": null,
   "metadata": {},
   "outputs": [
    {
     "name": "stdout",
     "output_type": "stream",
     "text": [
      "[[ 1.59159175  1.99133783  1.40719041]\n",
      " [ 0.84023324 -0.14752342  0.52132423]\n",
      " [ 0.00618369  0.96523919  0.26174429]\n",
      " [-0.54244126 -0.21724508  0.81182576]]\n",
      "(4,) (3,)\n"
     ]
    },
    {
     "ename": "ValueError",
     "evalue": "operands could not be broadcast together with shapes (4,1) (3,3) ",
     "output_type": "error",
     "traceback": [
      "\u001b[0;31m---------------------------------------------------------------------------\u001b[0m",
      "\u001b[0;31mValueError\u001b[0m                                Traceback (most recent call last)",
      "\u001b[1;32m/root/Documents/Projects/augmented_safeguard/scripts/notebooks/RLS.ipynb Cell 7\u001b[0m in \u001b[0;36m<cell line: 17>\u001b[0;34m()\u001b[0m\n\u001b[1;32m     <a href='vscode-notebook-cell://wsl%2Bubuntu/root/Documents/Projects/augmented_safeguard/scripts/notebooks/RLS.ipynb#W6sdnNjb2RlLXJlbW90ZQ%3D%3D?line=19'>20</a>\u001b[0m \u001b[39mprint\u001b[39m(x\u001b[39m.\u001b[39mshape, y\u001b[39m.\u001b[39mshape)\n\u001b[1;32m     <a href='vscode-notebook-cell://wsl%2Bubuntu/root/Documents/Projects/augmented_safeguard/scripts/notebooks/RLS.ipynb#W6sdnNjb2RlLXJlbW90ZQ%3D%3D?line=20'>21</a>\u001b[0m \u001b[39mtry\u001b[39;00m:\n\u001b[0;32m---> <a href='vscode-notebook-cell://wsl%2Bubuntu/root/Documents/Projects/augmented_safeguard/scripts/notebooks/RLS.ipynb#W6sdnNjb2RlLXJlbW90ZQ%3D%3D?line=21'>22</a>\u001b[0m     solver\u001b[39m.\u001b[39;49madd_new(x, y)\n\u001b[1;32m     <a href='vscode-notebook-cell://wsl%2Bubuntu/root/Documents/Projects/augmented_safeguard/scripts/notebooks/RLS.ipynb#W6sdnNjb2RlLXJlbW90ZQ%3D%3D?line=22'>23</a>\u001b[0m \u001b[39mexcept\u001b[39;00m \u001b[39mFloatingPointError\u001b[39;00m \u001b[39mas\u001b[39;00m e:\n\u001b[1;32m     <a href='vscode-notebook-cell://wsl%2Bubuntu/root/Documents/Projects/augmented_safeguard/scripts/notebooks/RLS.ipynb#W6sdnNjb2RlLXJlbW90ZQ%3D%3D?line=23'>24</a>\u001b[0m     \u001b[39mprint\u001b[39m(\u001b[39mf\u001b[39m\u001b[39m\"\u001b[39m\u001b[39m{\u001b[39;00mk\u001b[39m=}\u001b[39;00m\u001b[39m \u001b[39m\u001b[39m{\u001b[39;00mx\u001b[39m=}\u001b[39;00m\u001b[39m \u001b[39m\u001b[39m{\u001b[39;00my\u001b[39m=}\u001b[39;00m\u001b[39m\"\u001b[39m)\n",
      "File \u001b[0;32m~/Documents/Projects/augmented_safeguard/scripts/notebooks/RLS_module.py:40\u001b[0m, in \u001b[0;36mRLS.add_new\u001b[0;34m(self, x, y)\u001b[0m\n\u001b[1;32m     37\u001b[0m     \u001b[39mraise\u001b[39;00m \u001b[39mFloatingPointError\u001b[39;00m\n\u001b[1;32m     39\u001b[0m \u001b[39mtry\u001b[39;00m:\n\u001b[0;32m---> 40\u001b[0m     \u001b[39mself\u001b[39m\u001b[39m.\u001b[39mbeta \u001b[39m=\u001b[39m \u001b[39mself\u001b[39m\u001b[39m.\u001b[39mbeta \u001b[39m+\u001b[39m G \u001b[39m*\u001b[39;49m (y \u001b[39m-\u001b[39;49m \u001b[39mself\u001b[39;49m\u001b[39m.\u001b[39;49mbeta\u001b[39m.\u001b[39;49mT \u001b[39m@\u001b[39;49m z)\n\u001b[1;32m     41\u001b[0m \u001b[39mexcept\u001b[39;00m \u001b[39mFloatingPointError\u001b[39;00m \u001b[39mas\u001b[39;00m e:\n\u001b[1;32m     42\u001b[0m     \u001b[39mprint\u001b[39m(\u001b[39m\"\u001b[39m\u001b[39m[ERROR] FloatingPointError occurred while computing beta!\u001b[39m\u001b[39m\"\u001b[39m)\n",
      "\u001b[0;31mValueError\u001b[0m: operands could not be broadcast together with shapes (4,1) (3,3) "
     ]
    }
   ],
   "source": [
    "# test learning multidimension\n",
    "\n",
    "\n",
    "k_init=100\n",
    "Xm = np.mean(np.asarray(src.points), axis=0)\n",
    "Xall_c = np.asarray(src.points)-np.tile(Xm, (Xall.shape[0], 1))\n",
    "Xall_c = np.concatenate((const_buf, Xall_c), axis=1)\n",
    "X_c = Xall_c[:k_init]\n",
    "XYZ = Yall[:k_init]\n",
    "\n",
    "\n",
    "from RLS_module import RLS\n",
    "\n",
    "solver = RLS(X_c, XYZ)\n",
    "print(solver.beta)\n",
    "\n",
    "for k in range(k_init, 500):\n",
    "    x = Xall_c[k]\n",
    "    y = Yall[k]\n",
    "    print(x.shape, y.shape)\n",
    "    try:\n",
    "        solver.add_new(x, y)\n",
    "    except FloatingPointError as e:\n",
    "        print(f\"{k=} {x=} {y=}\")\n",
    "        break\n",
    "\n",
    "\n",
    "idx_eval = 0\n",
    "x_eval = Xall_c[idx_eval]\n",
    "y_eval = Yall[idx_eval]\n",
    "print(y_eval)\n",
    "print(solver.evaluate(x_eval))\n",
    "\n",
    "# visualize\n",
    "dst_RLS = o3d.geometry.PointCloud()\n",
    "print(Xall_c.shape)\n",
    "print(solver.beta.shape)\n",
    "\n",
    "# np.concatenate([Xall_c[:, 1:], np.array(Xall_c[:, 0]).reshape(1)], axis=0)\n",
    "print(Xall_c[:, 1:])\n",
    "print(Xall_c[:, 1:].shape)\n",
    "print(Xall_c[:, 0])\n",
    "print(Xall_c[:, 0].shape)\n",
    "# print(np.array(Xall_c[:, 0]).reshape((Xall_c.shape[0], 1)).shape)\n",
    "# np.vstack((Xall_c[:, 1:], Xall_c[:, 0].reshape((Xall_c.shape[0], 1))))\n",
    "x_eval_all = np.concatenate((np.asarray(src.points)-np.tile(Xm, (Xall.shape[0], 1)), const_buf), axis=1) # 1+ local position\n",
    "print(x_eval_all)\n",
    "\n",
    "dst_RLS.points = o3d.utility.Vector3dVector(x_eval_all.dot(solver.beta) + np.tile(Xm, (Xall.shape[0], 1)))\n",
    "dst_RLS.colors = dst.colors\n",
    "dst_RLS.normals = dst.normals\n",
    "o3d.io.write_point_cloud(\"dst_RLS.ply\", dst_RLS)"
   ]
  },
  {
   "cell_type": "code",
   "execution_count": null,
   "metadata": {},
   "outputs": [],
   "source": []
  }
 ],
 "metadata": {
  "kernelspec": {
   "display_name": "Python 3.8.13 ('augmented_safeguard')",
   "language": "python",
   "name": "python3"
  },
  "language_info": {
   "codemirror_mode": {
    "name": "ipython",
    "version": 3
   },
   "file_extension": ".py",
   "mimetype": "text/x-python",
   "name": "python",
   "nbconvert_exporter": "python",
   "pygments_lexer": "ipython3",
   "version": "3.8.13"
  },
  "orig_nbformat": 4,
  "vscode": {
   "interpreter": {
    "hash": "f6e065247eafcfc38e759ff65623e68bd138303abb29ffb78a0dd2326e63a2ed"
   }
  }
 },
 "nbformat": 4,
 "nbformat_minor": 2
}
