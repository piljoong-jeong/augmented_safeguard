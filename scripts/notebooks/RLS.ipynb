{
 "cells": [
  {
   "cell_type": "code",
   "execution_count": 1,
   "metadata": {},
   "outputs": [
    {
     "name": "stdout",
     "output_type": "stream",
     "text": [
      "Jupyter environment detected. Enabling Open3D WebVisualizer.\n",
      "[Open3D INFO] WebRTC GUI backend enabled.\n",
      "[Open3D INFO] WebRTCWindowSystem: HTTP handshake server disabled.\n"
     ]
    }
   ],
   "source": [
    "import os\n",
    "import sys\n",
    "\n",
    "import numpy as np\n",
    "import open3d as o3d"
   ]
  },
  {
   "cell_type": "code",
   "execution_count": 2,
   "metadata": {},
   "outputs": [],
   "source": [
    "# dataset\n",
    "src = o3d.io.read_point_cloud(\"src.ply\")\n",
    "dst = o3d.io.read_point_cloud(\"dst.ply\")\n",
    "\n",
    "Xall = np.asarray(src.points)\n",
    "Yall = np.asarray(dst.points)\n",
    "\n",
    "const_buf = np.ones((Xall.shape[0], 1))\n",
    "Xall = np.concatenate((const_buf, Xall), axis=1) # 1+ local position\n",
    "Yalls = np.hsplit(Yall, Yall.shape[1]) # independent global coordinate "
   ]
  },
  {
   "cell_type": "code",
   "execution_count": 3,
   "metadata": {},
   "outputs": [
    {
     "name": "stdout",
     "output_type": "stream",
     "text": [
      "[[-29.96628819]\n",
      " [-37.67119207]\n",
      " [ 99.36610004]\n",
      " [-80.39318209]]\n",
      "[-0.01247181]\n",
      "[100.70198346]\n"
     ]
    }
   ],
   "source": [
    "# recursive least squares\n",
    "\n",
    "k = 3 # initial\n",
    "\n",
    "X = Xall[:k]\n",
    "# print(X)\n",
    "# print(X.shape) # (k, 1+|features|)\n",
    "\n",
    "dim_target = 0 # x, y, z\n",
    "Y = Yalls[dim_target][:k] # TODO: do each RLS for each dimension!\n",
    "# print(Y)\n",
    "# print(Y.shape) # (k, 1)\n",
    "\n",
    "P = np.linalg.inv(X.T @ X) # NOTE: inverse covariance matrix\n",
    "# print(P)\n",
    "# print(P.shape) # (1+|features|, 1+|features|)\n",
    "\n",
    "beta = P @ X.T @ Y\n",
    "# print(beta)\n",
    "# print(beta.shape) # (1+|features|, 1), first dimension is intercept\n",
    "\n",
    "\n",
    "for k in range(4, Xall.shape[0]):\n",
    "\n",
    "    # print(k)\n",
    "\n",
    "    z = Xall[k].reshape((Xall[k].shape[0], 1))\n",
    "    y = Yalls[dim_target][k]\n",
    "    \n",
    "\n",
    "    G = (P @ z) / (1 + z.T @ P @ z) # weight\n",
    "    # print(G)\n",
    "    # print(G.shape) # (1, 1+|features|)\n",
    "    \n",
    "    P = P - ((G @ z.T) * P)\n",
    "    # print(P)\n",
    "    # print(P.shape) # (1+|features|, 1+|features|)\n",
    "\n",
    "    beta = beta + G * (y - beta.T @ z)\n",
    "    # print(beta)\n",
    "    # print(beta.shape) # (1+|features|, 1)\n",
    "\n",
    "    # break\n",
    "\n",
    "print(beta)\n",
    "idx_eval = 101\n",
    "x_eval = Xall[idx_eval]\n",
    "# print(x_eval)\n",
    "# print(np.concatenate([x_eval[1:], x_eval[0]]))\n",
    "# print(x_eval[1:])\n",
    "# print(x_eval[0])\n",
    "# print(np.array(x_eval[0]).reshape(1))\n",
    "# print(np.concatenate([x_eval[1:], np.array(x_eval[0]).reshape(1)], axis=0))\n",
    "x_eval = np.concatenate([x_eval[1:], np.array(x_eval[0]).reshape(1)], axis=0)\n",
    "\n",
    "y_eval = Yalls[dim_target][idx_eval]\n",
    "print(y_eval)\n",
    "print(x_eval.dot(beta))\n"
   ]
  },
  {
   "cell_type": "code",
   "execution_count": 4,
   "metadata": {},
   "outputs": [
    {
     "name": "stdout",
     "output_type": "stream",
     "text": [
      "[[-29.96628819]\n",
      " [-37.67119207]\n",
      " [ 99.36610004]\n",
      " [-80.39318209]]\n",
      "[-0.01247181]\n",
      "[100.70198346]\n"
     ]
    }
   ],
   "source": [
    "# modulization check\n",
    "\n",
    "from RLS_module import RLS\n",
    "\n",
    "solver = RLS(X, Y)\n",
    "# print(solver.beta)\n",
    "\n",
    "for k in range(4, Xall.shape[0]):\n",
    "    x = Xall[k]\n",
    "    y = Yalls[dim_target][k]\n",
    "    solver.add_new(x, y)\n",
    "\n",
    "print(solver.beta)\n",
    "\n",
    "idx_eval = 101\n",
    "x_eval = Xall[idx_eval]\n",
    "y_eval = Yalls[dim_target][idx_eval]\n",
    "print(y_eval)\n",
    "print(solver.evaluate(x_eval))"
   ]
  },
  {
   "cell_type": "code",
   "execution_count": 5,
   "metadata": {},
   "outputs": [
    {
     "name": "stdout",
     "output_type": "stream",
     "text": [
      "x0=[[2.66666667]\n",
      " [2.        ]]\n",
      "x1=[[2.2]\n",
      " [2.7]]\n"
     ]
    }
   ],
   "source": [
    "# test with public data, \n",
    "# from https://github.com/adamDhalla/recursive-least-squares\n",
    "\n",
    "# initialization\n",
    "A = np.array([[1, 0], [1, 1], [1, 2]])\n",
    "b = np.array([[3], [4], [7]])\n",
    "solver = RLS(A, b)\n",
    "print(f\"x0={solver.beta}\")\n",
    "\n",
    "# update\n",
    "newA = np.array([1, 3])\n",
    "newb = np.array([11])\n",
    "solver.add_new(newA, newb)\n",
    "print(f\"x1={solver.beta}\")"
   ]
  },
  {
   "cell_type": "code",
   "execution_count": 16,
   "metadata": {},
   "outputs": [
    {
     "name": "stdout",
     "output_type": "stream",
     "text": [
      "[[ 1.59159175]\n",
      " [ 0.84023324]\n",
      " [ 0.00618369]\n",
      " [-0.54244126]]\n",
      "[0.27405298]\n",
      "[-3.16006679]\n"
     ]
    }
   ],
   "source": [
    "# centerize\n",
    "Xm = np.mean(np.asarray(src.points), axis=0)\n",
    "# print(Xm)\n",
    "Xall_c = np.asarray(src.points)-np.tile(Xm, (Xall.shape[0], 1))\n",
    "Xall_c = np.concatenate((const_buf, Xall_c), axis=1) # 1+ local position\n",
    "# print(Xall)\n",
    "# print(Xall_c) # NOTE: consider scaling as well\n",
    "\n",
    "\n",
    "k_init=200 # increasing initial value somehow drops error, but is not wanted...\n",
    "X_c = Xall_c[:k_init]\n",
    "Y = Yalls[dim_target][:k_init] # TODO: do each RLS for each dimension!\n",
    "\n",
    "from RLS_module import RLS\n",
    "\n",
    "solver = RLS(X_c, Y)\n",
    "# print(solver.beta)\n",
    "\n",
    "for k in range(k_init, 500):\n",
    "    x = Xall_c[k]\n",
    "    y = Yalls[dim_target][k]\n",
    "    try:\n",
    "        solver.add_new(x, y)\n",
    "    except FloatingPointError as e:\n",
    "        print(f\"{k=} {x=} {y=}\")\n",
    "        break\n",
    "\n",
    "print(solver.beta)\n",
    "\n",
    "idx_eval = 0\n",
    "x_eval = Xall_c[idx_eval]\n",
    "y_eval = Yalls[dim_target][idx_eval]\n",
    "print(y_eval)\n",
    "print(solver.evaluate(x_eval))"
   ]
  },
  {
   "cell_type": "code",
   "execution_count": 43,
   "metadata": {},
   "outputs": [
    {
     "name": "stdout",
     "output_type": "stream",
     "text": [
      "[0.27405298 1.02095513 1.12868408]\n",
      "[-3.16006679 -1.60380728 -1.09813541]\n",
      "(198835, 4)\n",
      "(4, 3)\n",
      "[[-1.11000265 -1.01789621  0.69792497]\n",
      " [-1.08656515 -1.01789621  0.6976558 ]\n",
      " [-1.07094015 -1.01789621  0.69787991]\n",
      " ...\n",
      " [-0.86344315  0.47429129  0.6823765 ]\n",
      " [-0.86781515  0.47553655  0.6823765 ]\n",
      " [-0.86781515  0.47429129  0.68432987]]\n",
      "(198835, 3)\n",
      "[1. 1. 1. ... 1. 1. 1.]\n",
      "(198835,)\n",
      "[[-1.11000265 -1.01789621  0.69792497  1.        ]\n",
      " [-1.08656515 -1.01789621  0.6976558   1.        ]\n",
      " [-1.07094015 -1.01789621  0.69787991  1.        ]\n",
      " ...\n",
      " [-0.86344315  0.47429129  0.6823765   1.        ]\n",
      " [-0.86781515  0.47553655  0.6823765   1.        ]\n",
      " [-0.86781515  0.47429129  0.68432987  1.        ]]\n"
     ]
    },
    {
     "data": {
      "text/plain": [
       "True"
      ]
     },
     "execution_count": 43,
     "metadata": {},
     "output_type": "execute_result"
    }
   ],
   "source": [
    "# test learning multidimension\n",
    "\n",
    "\n",
    "k_init=100\n",
    "Xm = np.mean(np.asarray(src.points), axis=0)\n",
    "Xall_c = np.asarray(src.points)-np.tile(Xm, (Xall.shape[0], 1))\n",
    "Xall_c = np.concatenate((const_buf, Xall_c), axis=1)\n",
    "X_c = Xall_c[:k_init]\n",
    "XYZ = Yall[:k_init]\n",
    "\n",
    "\n",
    "from RLS_module import RLS\n",
    "\n",
    "solver = RLS(X_c, XYZ)\n",
    "\n",
    "idx_eval = 0\n",
    "x_eval = Xall_c[idx_eval]\n",
    "y_eval = Yall[idx_eval]\n",
    "print(y_eval)\n",
    "print(solver.evaluate(x_eval))\n",
    "\n",
    "# visualize\n",
    "dst_RLS = o3d.geometry.PointCloud()\n",
    "print(Xall_c.shape)\n",
    "print(solver.beta.shape)\n",
    "\n",
    "# np.concatenate([Xall_c[:, 1:], np.array(Xall_c[:, 0]).reshape(1)], axis=0)\n",
    "print(Xall_c[:, 1:])\n",
    "print(Xall_c[:, 1:].shape)\n",
    "print(Xall_c[:, 0])\n",
    "print(Xall_c[:, 0].shape)\n",
    "# print(np.array(Xall_c[:, 0]).reshape((Xall_c.shape[0], 1)).shape)\n",
    "# np.vstack((Xall_c[:, 1:], Xall_c[:, 0].reshape((Xall_c.shape[0], 1))))\n",
    "x_eval_all = np.concatenate((np.asarray(src.points)-np.tile(Xm, (Xall.shape[0], 1)), const_buf), axis=1) # 1+ local position\n",
    "print(x_eval_all)\n",
    "\n",
    "dst_RLS.points = o3d.utility.Vector3dVector(x_eval_all.dot(solver.beta) + np.tile(Xm, (Xall.shape[0], 1)))\n",
    "dst_RLS.colors = dst.colors\n",
    "o3d.io.write_point_cloud(\"dst_RLS.ply\", dst_RLS)"
   ]
  },
  {
   "cell_type": "code",
   "execution_count": null,
   "metadata": {},
   "outputs": [],
   "source": []
  }
 ],
 "metadata": {
  "kernelspec": {
   "display_name": "Python 3.8.13 ('augmented_safeguard')",
   "language": "python",
   "name": "python3"
  },
  "language_info": {
   "codemirror_mode": {
    "name": "ipython",
    "version": 3
   },
   "file_extension": ".py",
   "mimetype": "text/x-python",
   "name": "python",
   "nbconvert_exporter": "python",
   "pygments_lexer": "ipython3",
   "version": "3.8.13"
  },
  "orig_nbformat": 4,
  "vscode": {
   "interpreter": {
    "hash": "f6e065247eafcfc38e759ff65623e68bd138303abb29ffb78a0dd2326e63a2ed"
   }
  }
 },
 "nbformat": 4,
 "nbformat_minor": 2
}
