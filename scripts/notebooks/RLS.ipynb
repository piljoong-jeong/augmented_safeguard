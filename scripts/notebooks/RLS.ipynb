{
 "cells": [
  {
   "cell_type": "code",
   "execution_count": 26,
   "metadata": {},
   "outputs": [
    {
     "name": "stdout",
     "output_type": "stream",
     "text": [
      "Jupyter environment detected. Enabling Open3D WebVisualizer.\n",
      "[Open3D INFO] WebRTC GUI backend enabled.\n",
      "[Open3D INFO] WebRTCWindowSystem: HTTP handshake server disabled.\n"
     ]
    }
   ],
   "source": [
    "import os\n",
    "import sys\n",
    "\n",
    "import numpy as np\n",
    "import open3d as o3d"
   ]
  },
  {
   "cell_type": "code",
   "execution_count": 56,
   "metadata": {},
   "outputs": [
    {
     "name": "stdout",
     "output_type": "stream",
     "text": [
      "[0.27405298 1.02095513 1.12868408]\n",
      "[0.27405298] [1.02095513] [1.12868408]\n"
     ]
    }
   ],
   "source": [
    "# dataset\n",
    "src = o3d.io.read_point_cloud(\"src.ply\")\n",
    "dst = o3d.io.read_point_cloud(\"dst.ply\")\n",
    "\n",
    "Xall = np.asarray(src.points)\n",
    "Yall = np.asarray(dst.points)\n",
    "\n",
    "const_buf = np.ones((Xall.shape[0], 1))\n",
    "Xall = np.concatenate((const_buf, Xall), axis=1) # 1+ local position\n",
    "Yalls = np.hsplit(Yall, Yall.shape[1]) # independent global coordinate "
   ]
  },
  {
   "cell_type": "code",
   "execution_count": 25,
   "metadata": {},
   "outputs": [
    {
     "name": "stdout",
     "output_type": "stream",
     "text": [
      "[[ 9.84750e-01  1.73690e-01  4.00000e-05]\n",
      " [ 8.36850e-01  1.92539e+00  3.41930e-01]\n",
      " [ 5.94600e-02 -3.36860e-01  9.39720e-01]]\n",
      "[[18.8106 17.6222 12.8169]]\n",
      "[[18.8106 17.6222 12.8169]]\n"
     ]
    }
   ],
   "source": [
    "# weighted least squares\n",
    "W = np.eye(X.shape[0])\n",
    "\n",
    "# y = x * beta\n",
    "beta = np.linalg.inv(X.T * W * X) * (X.T * W * Y)\n",
    "print(beta)\n",
    "\n",
    "print(Y[0])\n",
    "print(X[0] * beta)"
   ]
  },
  {
   "cell_type": "code",
   "execution_count": null,
   "metadata": {},
   "outputs": [],
   "source": [
    "# recursive least squares\n",
    "# P = "
   ]
  }
 ],
 "metadata": {
  "kernelspec": {
   "display_name": "Python 3.8.13 ('augmented_safeguard')",
   "language": "python",
   "name": "python3"
  },
  "language_info": {
   "codemirror_mode": {
    "name": "ipython",
    "version": 3
   },
   "file_extension": ".py",
   "mimetype": "text/x-python",
   "name": "python",
   "nbconvert_exporter": "python",
   "pygments_lexer": "ipython3",
   "version": "3.8.13"
  },
  "orig_nbformat": 4,
  "vscode": {
   "interpreter": {
    "hash": "f6e065247eafcfc38e759ff65623e68bd138303abb29ffb78a0dd2326e63a2ed"
   }
  }
 },
 "nbformat": 4,
 "nbformat_minor": 2
}
