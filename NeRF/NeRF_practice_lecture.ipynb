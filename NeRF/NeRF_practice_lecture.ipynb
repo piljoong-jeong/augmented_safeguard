{
 "cells": [
  {
   "cell_type": "code",
   "execution_count": 1,
   "metadata": {},
   "outputs": [],
   "source": [
    "import os\n",
    "# NOTE: material: https://drive.google.com/drive/u/0/folders/14J6oWZzULqtXfIv99064Cs0iHVdeat22"
   ]
  },
  {
   "cell_type": "code",
   "execution_count": 5,
   "metadata": {},
   "outputs": [
    {
     "name": "stdout",
     "output_type": "stream",
     "text": [
      "dir_project='/root/Documents/Projects/augmented_safeguard/NeRF'\n",
      "/root/Documents/Projects/augmented_safeguard/NeRF\n"
     ]
    }
   ],
   "source": [
    "# NOTE: access to directory\n",
    "dir_project = os.path.abspath(\".\")\n",
    "print(f\"{dir_project=}\")\n",
    "os.chdir(dir_project)\n",
    "print(f\"{os.getcwd()}\")"
   ]
  },
  {
   "cell_type": "code",
   "execution_count": null,
   "metadata": {},
   "outputs": [],
   "source": [
    "def config_parser():\n",
    "    import argparse\n",
    "    parser = argparse.ArgumentParser()\n",
    "\n",
    "    parser.add_argument(\"--expname\", type=str, help=\"experiment name\")\n",
    "    parser.add_argument(\"--basedir\", type=str, default=\"./logs/\", help=\"where to store checkpoints and logs\")\n",
    "    parser.add_argument(\"--datadir\", type=str, default=\"./data/llff/fern\", help=\"input data directory\")\n",
    "\n",
    "    # NOTE: tranining options\n",
    "    # ------------------------------------------\n",
    "    parser.add_argument(\"--netdepth\", type=int, default=8, help=\"layers in network\")\n",
    "    parser.add_argument(\"--netwidth\", type=int, default=256, help=\"channels per layer\")\n",
    "    parser.add_argument(\"--netdepth_fine\", type=int, default=8, help=\"layers in fine network\")\n",
    "    parser.add_argument(\"--netwidth_fine\", type=int, default=256, help=\"channels per layer in fine network\")\n",
    "    parser.add_argument(\"--N_rand\", type=int, default=32*32*4, help=\"batch size (number of random rays per gradient step)\")\n",
    "    parser.add_argument(\"--lrate\", type=float, default=5e-4, help=\"learning rate\")\n",
    "    parser.add_argument(\"--lrate_decay\", type=int, default=250, help=\"exponential learning rate decay (in 1000 steps)\")\n",
    "    \n",
    "    ## NOTE: training options - batch size\n",
    "    parser.add_argument(\"--chunk\", type=int, default=1024*32, help=\"number of rays processed in parallel, decrease it if running out of memory\")\n",
    "    parser.add_argument(\"--netchunk\", type=int, default=1024*64, help=\"number of points sent through network in parallel, decrease it if running out of memory\")\n",
    "    parser.add_argument(\"--no_batching\", action=\"store_true\", help=\"only take random rays from 1 image at a time\")\n",
    "    parser.add_argument(\"--no_reload\", action=\"store_true\", help=\"do not reload weights from saved checkpoint\")\n",
    "    parser.add_argument(\"--ft_path\", type=str, default=None, help=\"specific weights npy file to reload for coarse network\")\n",
    "\n",
    "    ## NOTE: training options - precrop?\n",
    "    parser.add_argument(\"--precrop_iters\", type=int, default=0, help=\"number of steps to train on central crops\")\n",
    "    parser.add_argument(\"--precrop_frac\", type=float, default=0.5, help=\"fraction of image taken for central crops\")\n",
    "    # ------------------------------------------\n",
    "\n",
    "\n",
    "    # NOTE: rendering options\n",
    "    parser.add_argument(\"--N_samples\", type=int, default=64, help=\"number of coarse samples per ray\")\n",
    "    parser.add_argument(\"--N_importance\", type=int, default=0, help=\"number of additional fine samples per ray\")\n",
    "    parser.add_argument(\"--perturb\", type=float, default=1., help=\"set to 0. for no jitter, 1. for jitter\")\n",
    "    parser.add_argument(\"--use_viewdirs\", action=\"store_true\", help=\"use full 5D input instead of 3D\")\n",
    "    parser.add_argument(\"--i_embed\", type=int, default=0, help=\"set 0 for default positional encoding, -1 for none\")\n",
    "    parser.add_argument(\"--multires\", type=int, default=10, help=\"log2 of max freq for positional encoding (3D location)\")\n",
    "    parser.add_argument(\"--multires_views\", type=int, default=4, help=\"log2 of max freq for positional encoding (2D direction)\")\n",
    "    parser.add_argument(\"--raw_noise_std\", type=float, default=0., help=\"std dev of noise added to regularize sigma_a output. 1e0 recommended\")\n",
    "\n",
    "    ## NOTE: rendering options - visualization related?\n",
    "    parser.add_argument(\"--render_only\", action=\"store_true\", help=\"do not optimize, reload weights and render out render_poses path\")\n",
    "    parser.add_argument(\"--render_test\", action=\"store_true\", help=\"render the test set instead of render_poses path\")\n",
    "    parser.add_argument(\"--render_factor\", type=int, default=0, help=\"downsampling factor to speed up rendering, set 4 or 8 for fast preview\")\n",
    "\n",
    "    \n"
   ]
  }
 ],
 "metadata": {
  "kernelspec": {
   "display_name": "Python 3.8.13 ('augmented_safeguard')",
   "language": "python",
   "name": "python3"
  },
  "language_info": {
   "codemirror_mode": {
    "name": "ipython",
    "version": 3
   },
   "file_extension": ".py",
   "mimetype": "text/x-python",
   "name": "python",
   "nbconvert_exporter": "python",
   "pygments_lexer": "ipython3",
   "version": "3.8.13"
  },
  "orig_nbformat": 4,
  "vscode": {
   "interpreter": {
    "hash": "f6e065247eafcfc38e759ff65623e68bd138303abb29ffb78a0dd2326e63a2ed"
   }
  }
 },
 "nbformat": 4,
 "nbformat_minor": 2
}
