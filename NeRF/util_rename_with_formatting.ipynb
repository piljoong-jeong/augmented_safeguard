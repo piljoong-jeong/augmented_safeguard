{
 "cells": [
  {
   "cell_type": "code",
   "execution_count": 8,
   "metadata": {},
   "outputs": [],
   "source": [
    "import os \n",
    "import sys\n",
    "import shutil\n",
    "\n",
    "expname = \"theodore_test/\"\n",
    "basedir = os.path.join(\"logs\", expname, \"iter_plots/\")\n",
    "list_filenames = os.listdir(basedir)\n",
    "\n",
    "for filename in list_filenames:\n",
    "    # print(f\"{filename=}\")\n",
    "    \n",
    "    tok_iter_psnr = filename.split(\"_\")\n",
    "    # print(f\"{tok_iter_psnr=}\")\n",
    "\n",
    "    iter_idx, psnr_value = tok_iter_psnr[0], tok_iter_psnr[1]\n",
    "    _, idx = iter_idx.split(\"=\")\n",
    "    # print(f\"{idx=}\")\n",
    "\n",
    "    idx = int(idx)\n",
    "    idx = f\"{idx:06d}\"\n",
    "    # print(f\"{idx=}\")\n",
    "\n",
    "    iter_idxformatted = \"=\".join([_, idx])\n",
    "    # print(f\"{iter_idxformatted=}\")\n",
    "\n",
    "    filename_formatted = \"_\".join([iter_idxformatted, psnr_value])\n",
    "    # print(f\"{filename_formatted=}\")\n",
    "\n",
    "    # os.rename(\n",
    "    #     os.path.join(basedir, filename), \n",
    "    #     os.path.join(basedir, filename_formatted)\n",
    "    # )\n",
    "\n",
    "    # NOTE: drop psnr values\n",
    "    ext = os.path.splitext(psnr_value)[1]\n",
    "    # print(ext)\n",
    "\n",
    "    filename_formatted_without_psnr = iter_idxformatted + ext\n",
    "    # print(filename_formatted_without_psnr)\n",
    "\n",
    "    # NOTE: copy to `iter_plots_formatted`, which is a directory manually created\n",
    "    shutil.copy2(\n",
    "        os.path.join(basedir, filename), \n",
    "        os.path.join(basedir.replace(\"iter_plots\", \"iter_plots_formatted\"), filename_formatted_without_psnr)\n",
    "    )\n"
   ]
  },
  {
   "cell_type": "code",
   "execution_count": null,
   "metadata": {},
   "outputs": [],
   "source": []
  }
 ],
 "metadata": {
  "kernelspec": {
   "display_name": "augmented_safeguard",
   "language": "python",
   "name": "python3"
  },
  "language_info": {
   "codemirror_mode": {
    "name": "ipython",
    "version": 3
   },
   "file_extension": ".py",
   "mimetype": "text/x-python",
   "name": "python",
   "nbconvert_exporter": "python",
   "pygments_lexer": "ipython3",
   "version": "3.8.13"
  },
  "orig_nbformat": 4
 },
 "nbformat": 4,
 "nbformat_minor": 2
}
