{
 "cells": [
  {
   "cell_type": "code",
   "execution_count": 1,
   "metadata": {},
   "outputs": [],
   "source": [
    "import os\n",
    "# NOTE: material: https://drive.google.com/drive/u/0/folders/14J6oWZzULqtXfIv99064Cs0iHVdeat22"
   ]
  },
  {
   "cell_type": "code",
   "execution_count": 4,
   "metadata": {},
   "outputs": [
    {
     "name": "stdout",
     "output_type": "stream",
     "text": [
      "dir_project='/root/Documents/Projects/augmented_safeguard/D-NeRF'\n",
      "os.getcwd()='/root/Documents/Projects/augmented_safeguard/D-NeRF'\n"
     ]
    }
   ],
   "source": [
    "# NOTE: access to directory\n",
    "dir_project = os.path.abspath(\".\")\n",
    "print(f\"{dir_project=}\")\n",
    "os.chdir(dir_project)\n",
    "print(f\"{os.getcwd()=}\")"
   ]
  },
  {
   "cell_type": "code",
   "execution_count": 5,
   "metadata": {},
   "outputs": [],
   "source": [
    "\n",
    "import json\n",
    "import math\n",
    "import time\n",
    "\n",
    "import cv2\n",
    "import imageio\n",
    "import lpips\n",
    "import numpy as np\n",
    "import torch\n",
    "torch.autograd.set_detect_anomaly(True)\n",
    "import torch.nn as nn\n",
    "import torch.nn.functional as F\n",
    "import matplotlib.pyplot as plt\n",
    "import mcubes\n",
    "import trimesh\n",
    "from tqdm import tqdm, trange\n"
   ]
  },
  {
   "cell_type": "code",
   "execution_count": null,
   "metadata": {},
   "outputs": [],
   "source": [
    "# NOTE: extended `config_parser()`\n",
    "\n",
    "import NeRF.config_parser\n",
    "\n",
    "def config_parser():\n",
    "    import argparse\n",
    "    parser = NeRF.config_parser.config_parser()\n",
    "\n",
    "    # NOTE: D-NeRF training options\n",
    "    # ------------------------------------------\n",
    "    parser.add_argument(\"--nerf_type\", type=str, default=\"original\", help=\"nerf network type\")\n",
    "    parser.add_argument(\"--N_iter\", type=int, default=500000, help=\"num training iterations\")\n",
    "    parser.add_argument(\"--do_half_precision\", action=\"store_true\", help=\"do half precision training and inference\")\n",
    "\n",
    "    parser.add_argument(\"--add_tv_loss\", action=\"store_true\", help=\"evaluate tv loss\")\n",
    "    parser.add_argument(\"--tv_loss_weight\", type=float, default=1.e-4, help=\"weight of tv loss\")\n",
    "    # ------------------------------------------\n",
    "    \n",
    "    # NOTE: D-NeRF rendering options\n",
    "    # ------------------------------------------\n",
    "    parser.add_argument(\"--not_zero_canonical\", action=\"store_true\", help=\"if set zero time is not the canonic space\")\n",
    "    parser.add_argument(\"--use_two_models_for_fine\", action=\"store_true\", help=\"use two models for fine results\")\n",
    "    # ------------------------------------------\n",
    "\n",
    "    return parser\n",
    "\n",
    "\n"
   ]
  }
 ],
 "metadata": {
  "kernelspec": {
   "display_name": "augmented_safeguard",
   "language": "python",
   "name": "python3"
  },
  "language_info": {
   "codemirror_mode": {
    "name": "ipython",
    "version": 3
   },
   "file_extension": ".py",
   "mimetype": "text/x-python",
   "name": "python",
   "nbconvert_exporter": "python",
   "pygments_lexer": "ipython3",
   "version": "3.8.13"
  },
  "orig_nbformat": 4
 },
 "nbformat": 4,
 "nbformat_minor": 2
}
